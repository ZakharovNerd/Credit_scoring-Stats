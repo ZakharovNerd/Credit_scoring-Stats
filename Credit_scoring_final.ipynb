{
  "nbformat": 4,
  "nbformat_minor": 0,
  "metadata": {
    "colab": {
      "name": "Credit_scoring_final",
      "provenance": [],
      "toc_visible": true
    },
    "kernelspec": {
      "name": "python3",
      "display_name": "Python 3"
    }
  },
  "cells": [
    {
      "cell_type": "code",
      "metadata": {
        "id": "G8wDH97x_UA3",
        "colab": {
          "base_uri": "https://localhost:8080/"
        },
        "outputId": "01dbb544-41ff-4b08-fd91-de10ba1bde44"
      },
      "source": [
        "import pandas as pd\n",
        "import scipy\n",
        "import statsmodels.stats as stats\n",
        "from math import sqrt\n",
        "import numpy as np\n",
        "import matplotlib.pyplot as plt\n",
        "from scipy.stats import chi2_contingency\n",
        "from statsmodels.stats.weightstats import *\n",
        "from statsmodels.stats.weightstats import _zconfint_generic, _tconfint_generic"
      ],
      "execution_count": 1,
      "outputs": [
        {
          "output_type": "stream",
          "text": [
            "/usr/local/lib/python3.6/dist-packages/statsmodels/tools/_testing.py:19: FutureWarning: pandas.util.testing is deprecated. Use the functions in the public API at pandas.testing instead.\n",
            "  import pandas.util.testing as tm\n"
          ],
          "name": "stderr"
        }
      ]
    },
    {
      "cell_type": "code",
      "metadata": {
        "colab": {
          "base_uri": "https://localhost:8080/"
        },
        "id": "gjJ4veu3PRg0",
        "outputId": "d65d48aa-d3db-49a7-a80f-194ef1c86f6f"
      },
      "source": [
        "%pylab inline"
      ],
      "execution_count": 2,
      "outputs": [
        {
          "output_type": "stream",
          "text": [
            "Populating the interactive namespace from numpy and matplotlib\n"
          ],
          "name": "stdout"
        },
        {
          "output_type": "stream",
          "text": [
            "/usr/local/lib/python3.6/dist-packages/IPython/core/magics/pylab.py:161: UserWarning: pylab import has clobbered these variables: ['sqrt']\n",
            "`%matplotlib` prevents importing * from pylab and numpy\n",
            "  \"\\n`%matplotlib` prevents importing * from pylab and numpy\"\n"
          ],
          "name": "stderr"
        }
      ]
    },
    {
      "cell_type": "code",
      "metadata": {
        "id": "eHnDhmfDANHb"
      },
      "source": [
        "data = pd.read_csv(\"/content/_5e732cdeb15894a04f77e5fae011e572_credit_card_default_analysis.csv\")"
      ],
      "execution_count": 3,
      "outputs": []
    },
    {
      "cell_type": "code",
      "metadata": {
        "colab": {
          "base_uri": "https://localhost:8080/",
          "height": 222
        },
        "id": "2Lv27oz8ANNl",
        "outputId": "c2ad7a54-01b5-4a5b-8338-6b4be33f5cfa"
      },
      "source": [
        "data.head()"
      ],
      "execution_count": null,
      "outputs": [
        {
          "output_type": "execute_result",
          "data": {
            "text/html": [
              "<div>\n",
              "<style scoped>\n",
              "    .dataframe tbody tr th:only-of-type {\n",
              "        vertical-align: middle;\n",
              "    }\n",
              "\n",
              "    .dataframe tbody tr th {\n",
              "        vertical-align: top;\n",
              "    }\n",
              "\n",
              "    .dataframe thead th {\n",
              "        text-align: right;\n",
              "    }\n",
              "</style>\n",
              "<table border=\"1\" class=\"dataframe\">\n",
              "  <thead>\n",
              "    <tr style=\"text-align: right;\">\n",
              "      <th></th>\n",
              "      <th>ID</th>\n",
              "      <th>LIMIT_BAL</th>\n",
              "      <th>SEX</th>\n",
              "      <th>EDUCATION</th>\n",
              "      <th>MARRIAGE</th>\n",
              "      <th>AGE</th>\n",
              "      <th>PAY_0</th>\n",
              "      <th>PAY_2</th>\n",
              "      <th>PAY_3</th>\n",
              "      <th>PAY_4</th>\n",
              "      <th>PAY_5</th>\n",
              "      <th>PAY_6</th>\n",
              "      <th>BILL_AMT1</th>\n",
              "      <th>BILL_AMT2</th>\n",
              "      <th>BILL_AMT3</th>\n",
              "      <th>BILL_AMT4</th>\n",
              "      <th>BILL_AMT5</th>\n",
              "      <th>BILL_AMT6</th>\n",
              "      <th>PAY_AMT1</th>\n",
              "      <th>PAY_AMT2</th>\n",
              "      <th>PAY_AMT3</th>\n",
              "      <th>PAY_AMT4</th>\n",
              "      <th>PAY_AMT5</th>\n",
              "      <th>PAY_AMT6</th>\n",
              "      <th>default</th>\n",
              "    </tr>\n",
              "  </thead>\n",
              "  <tbody>\n",
              "    <tr>\n",
              "      <th>0</th>\n",
              "      <td>1</td>\n",
              "      <td>20000</td>\n",
              "      <td>2</td>\n",
              "      <td>2</td>\n",
              "      <td>1</td>\n",
              "      <td>24</td>\n",
              "      <td>2</td>\n",
              "      <td>2</td>\n",
              "      <td>0</td>\n",
              "      <td>0</td>\n",
              "      <td>0</td>\n",
              "      <td>0</td>\n",
              "      <td>3913</td>\n",
              "      <td>3102</td>\n",
              "      <td>689</td>\n",
              "      <td>0</td>\n",
              "      <td>0</td>\n",
              "      <td>0</td>\n",
              "      <td>0</td>\n",
              "      <td>689</td>\n",
              "      <td>0</td>\n",
              "      <td>0</td>\n",
              "      <td>0</td>\n",
              "      <td>0</td>\n",
              "      <td>1</td>\n",
              "    </tr>\n",
              "    <tr>\n",
              "      <th>1</th>\n",
              "      <td>2</td>\n",
              "      <td>120000</td>\n",
              "      <td>2</td>\n",
              "      <td>2</td>\n",
              "      <td>2</td>\n",
              "      <td>26</td>\n",
              "      <td>0</td>\n",
              "      <td>2</td>\n",
              "      <td>0</td>\n",
              "      <td>0</td>\n",
              "      <td>0</td>\n",
              "      <td>2</td>\n",
              "      <td>2682</td>\n",
              "      <td>1725</td>\n",
              "      <td>2682</td>\n",
              "      <td>3272</td>\n",
              "      <td>3455</td>\n",
              "      <td>3261</td>\n",
              "      <td>0</td>\n",
              "      <td>1000</td>\n",
              "      <td>1000</td>\n",
              "      <td>1000</td>\n",
              "      <td>0</td>\n",
              "      <td>2000</td>\n",
              "      <td>1</td>\n",
              "    </tr>\n",
              "    <tr>\n",
              "      <th>2</th>\n",
              "      <td>3</td>\n",
              "      <td>90000</td>\n",
              "      <td>2</td>\n",
              "      <td>2</td>\n",
              "      <td>2</td>\n",
              "      <td>34</td>\n",
              "      <td>0</td>\n",
              "      <td>0</td>\n",
              "      <td>0</td>\n",
              "      <td>0</td>\n",
              "      <td>0</td>\n",
              "      <td>0</td>\n",
              "      <td>29239</td>\n",
              "      <td>14027</td>\n",
              "      <td>13559</td>\n",
              "      <td>14331</td>\n",
              "      <td>14948</td>\n",
              "      <td>15549</td>\n",
              "      <td>1518</td>\n",
              "      <td>1500</td>\n",
              "      <td>1000</td>\n",
              "      <td>1000</td>\n",
              "      <td>1000</td>\n",
              "      <td>5000</td>\n",
              "      <td>0</td>\n",
              "    </tr>\n",
              "    <tr>\n",
              "      <th>3</th>\n",
              "      <td>4</td>\n",
              "      <td>50000</td>\n",
              "      <td>2</td>\n",
              "      <td>2</td>\n",
              "      <td>1</td>\n",
              "      <td>37</td>\n",
              "      <td>0</td>\n",
              "      <td>0</td>\n",
              "      <td>0</td>\n",
              "      <td>0</td>\n",
              "      <td>0</td>\n",
              "      <td>0</td>\n",
              "      <td>46990</td>\n",
              "      <td>48233</td>\n",
              "      <td>49291</td>\n",
              "      <td>28314</td>\n",
              "      <td>28959</td>\n",
              "      <td>29547</td>\n",
              "      <td>2000</td>\n",
              "      <td>2019</td>\n",
              "      <td>1200</td>\n",
              "      <td>1100</td>\n",
              "      <td>1069</td>\n",
              "      <td>1000</td>\n",
              "      <td>0</td>\n",
              "    </tr>\n",
              "    <tr>\n",
              "      <th>4</th>\n",
              "      <td>5</td>\n",
              "      <td>50000</td>\n",
              "      <td>1</td>\n",
              "      <td>2</td>\n",
              "      <td>1</td>\n",
              "      <td>57</td>\n",
              "      <td>0</td>\n",
              "      <td>0</td>\n",
              "      <td>0</td>\n",
              "      <td>0</td>\n",
              "      <td>0</td>\n",
              "      <td>0</td>\n",
              "      <td>8617</td>\n",
              "      <td>5670</td>\n",
              "      <td>35835</td>\n",
              "      <td>20940</td>\n",
              "      <td>19146</td>\n",
              "      <td>19131</td>\n",
              "      <td>2000</td>\n",
              "      <td>36681</td>\n",
              "      <td>10000</td>\n",
              "      <td>9000</td>\n",
              "      <td>689</td>\n",
              "      <td>679</td>\n",
              "      <td>0</td>\n",
              "    </tr>\n",
              "  </tbody>\n",
              "</table>\n",
              "</div>"
            ],
            "text/plain": [
              "   ID  LIMIT_BAL  SEX  EDUCATION  ...  PAY_AMT4  PAY_AMT5  PAY_AMT6  default\n",
              "0   1      20000    2          2  ...         0         0         0        1\n",
              "1   2     120000    2          2  ...      1000         0      2000        1\n",
              "2   3      90000    2          2  ...      1000      1000      5000        0\n",
              "3   4      50000    2          2  ...      1100      1069      1000        0\n",
              "4   5      50000    1          2  ...      9000       689       679        0\n",
              "\n",
              "[5 rows x 25 columns]"
            ]
          },
          "metadata": {
            "tags": []
          },
          "execution_count": 286
        }
      ]
    },
    {
      "cell_type": "markdown",
      "metadata": {
        "id": "11tKrMmBVOW3"
      },
      "source": [
        "p == 0.05 везде по дефолту, множественных проверок нет.\r\n",
        "Сначала  1) делаем графики, 2) расписываем пару нулевая гипотеза - альтернатива, потом проверяем 3) условия применения определенных критериев, вычисляем 4) значение критерия и потом делаем вывод, сделав 5) замечание относительно практической значимости"
      ]
    },
    {
      "cell_type": "markdown",
      "metadata": {
        "id": "ofBkn-0MRV2A"
      },
      "source": [
        "# 1 задание"
      ]
    },
    {
      "cell_type": "markdown",
      "metadata": {
        "id": "I43ni3GlA5y4"
      },
      "source": [
        "Размер кредитного лимита (LIMIT_BAL)\n",
        "В двух группах, тех людей, кто вернул кредит (default = 0) и тех, кто его не вернул (default = 1) проверьте гипотезы:   a)  о равенстве медианных значений кредитного лимита с помощью подходящей интервальной оценки  b) о равенстве распределений с помощью одного из подходящих непараметрических критериев проверки равенства средних.  Значимы ли полученные результаты с практической точки зрения ?"
      ]
    },
    {
      "cell_type": "markdown",
      "metadata": {
        "id": "1qc7U3uJVMkJ"
      },
      "source": [
        "H0 - медианы равны\r\n",
        "\r\n",
        "H1 - не равны"
      ]
    },
    {
      "cell_type": "code",
      "metadata": {
        "colab": {
          "base_uri": "https://localhost:8080/",
          "height": 402
        },
        "id": "iZC3EOLE0Vpb",
        "outputId": "3a2c16f7-f7e3-42c3-866e-0773a2808f92"
      },
      "source": [
        "good_clients = data[data['default'] == 0]\r\n",
        "bad_clients = data[data['default'] == 1]\r\n",
        "plt.figure(figsize(16,7))\r\n",
        "plt.subplot(121)\r\n",
        "good_clients['LIMIT_BAL'].plot.hist(bins=20)\r\n",
        "bad_clients['LIMIT_BAL'].plot.hist(bins=20)\r\n",
        "plt.xlabel('LIMIT_BAL', fontsize=14)\r\n",
        "\r\n",
        "plt.subplot(122)\r\n",
        "np.log(good_clients['LIMIT_BAL']).plot.hist(bins=20)\r\n",
        "np.log(bad_clients['LIMIT_BAL']).plot.hist(bins=20)\r\n",
        "plt.xlabel('Log limit bal', fontsize=14)\r\n",
        "pylab.show()"
      ],
      "execution_count": 12,
      "outputs": [
        {
          "output_type": "display_data",
          "data": {
            "image/png": "[encoded data removed]",
            "text/plain": [
              "<Figure size 1152x504 with 2 Axes>"
            ]
          },
          "metadata": {
            "tags": [],
            "needs_background": "light"
          }
        }
      ]
    },
    {
      "cell_type": "markdown",
      "metadata": {
        "id": "pRaiZBO41DZQ"
      },
      "source": [
        "видим что и то и другое не слишком похоже на нормальное распределение случайной величины. Ладно, едем проверять гипотезы."
      ]
    },
    {
      "cell_type": "code",
      "metadata": {
        "id": "aqZ4XeLSANQs"
      },
      "source": [
        "#Первое задание с помощью бутсрэпа\n",
        "non_defs = data.LIMIT_BAL[data.default == 0]\n",
        "non_defs_median = non_defs.median()\n"
      ],
      "execution_count": 6,
      "outputs": []
    },
    {
      "cell_type": "code",
      "metadata": {
        "id": "wHRlJ9t6ANTg"
      },
      "source": [
        "defs = data.LIMIT_BAL[data.default == 1]\n",
        "defs_median = defs.median()"
      ],
      "execution_count": 9,
      "outputs": []
    },
    {
      "cell_type": "code",
      "metadata": {
        "colab": {
          "base_uri": "https://localhost:8080/"
        },
        "id": "hbDYpzqwqnOx",
        "outputId": "46f6ef1e-9d9d-47d0-e5e4-14205ef5348f"
      },
      "source": [
        "defs_median"
      ],
      "execution_count": null,
      "outputs": [
        {
          "output_type": "execute_result",
          "data": {
            "text/plain": [
              "90000.0"
            ]
          },
          "metadata": {
            "tags": []
          },
          "execution_count": 289
        }
      ]
    },
    {
      "cell_type": "code",
      "metadata": {
        "colab": {
          "base_uri": "https://localhost:8080/"
        },
        "id": "ViTatHx4V06O",
        "outputId": "56b4f3e6-3543-4b8d-88ec-575498165548"
      },
      "source": [
        "non_defs_median"
      ],
      "execution_count": null,
      "outputs": [
        {
          "output_type": "execute_result",
          "data": {
            "text/plain": [
              "150000.0"
            ]
          },
          "metadata": {
            "tags": []
          },
          "execution_count": 290
        }
      ]
    },
    {
      "cell_type": "code",
      "metadata": {
        "id": "80csIPGz2yg7"
      },
      "source": [
        "def get_bootstrap_samples(data, n_samples):\r\n",
        "    indices = np.random.randint(0, len(data), (n_samples, len(data)))\r\n",
        "    samples = data[indices]\r\n",
        "    return samples\r\n",
        "def stat_intervals(stat, alpha):\r\n",
        "    boundaries = np.percentile(stat, [100 * alpha / 2., 100 * (1 - alpha / 2.)])\r\n",
        "    return boundaries"
      ],
      "execution_count": 39,
      "outputs": []
    },
    {
      "cell_type": "code",
      "metadata": {
        "colab": {
          "base_uri": "https://localhost:8080/"
        },
        "id": "_S-22vZn2140",
        "outputId": "72167134-c84c-4160-9eb8-987cf1c9ae7e"
      },
      "source": [
        "print(stat_intervals(list(map(np.median, get_bootstrap_samples(np.array(defs), 1000))), 0.05))\r\n",
        "print(stat_intervals(list(map(np.median, get_bootstrap_samples(np.array(non_defs), 1000))), 0.05))"
      ],
      "execution_count": null,
      "outputs": [
        {
          "output_type": "stream",
          "text": [
            "[80000. 90000.]\n",
            "[150000. 150000.]\n"
          ],
          "name": "stdout"
        }
      ]
    },
    {
      "cell_type": "markdown",
      "metadata": {
        "id": "nG8OMN0trANT"
      },
      "source": [
        "Интервалы не пересекаются. Гипотеза о равенстве медианных значений отклоняется - Заёмщики, которые не возвращают кредит, обычно берут меньшую сумму."
      ]
    },
    {
      "cell_type": "markdown",
      "metadata": {
        "id": "CpzhvegP1hYE"
      },
      "source": [
        "С точки зрения практической значимости, неравенство медианных значений означает что банк уже сейчас неплохо справляется с задачей расчёта кредитного лимита LIMIT_BAL, давая меньшие лимиты плохим заёмщикам и бОльшие лимиты хорошим заёмщикам."
      ]
    },
    {
      "cell_type": "markdown",
      "metadata": {
        "id": "V_D_EudcVV-p"
      },
      "source": [
        "1b)\r\n",
        "Здесь мы будем проверять нулевую гипотезу о том что распределения LIMIT_BAL одинаковы для плохих и хороших клиентов (сдвиг распределений равен нулю), против двусторонней альтернативы о том что эти значения не равны (сдвиг распределений отличен от нуля) на уровне значимости 95%."
      ]
    },
    {
      "cell_type": "code",
      "metadata": {
        "id": "B_Hm7AdcANaJ",
        "colab": {
          "base_uri": "https://localhost:8080/",
          "height": 609
        },
        "outputId": "076fd188-8f34-4c5e-a40b-a7ff6396afa9"
      },
      "source": [
        "red_squareragged = dict(markerfacecolor='r', marker='s')\n",
        "fig5, ax5 = plt.subplots()\n",
        "ax5.set_title('Horizontal Boxes')\n",
        "ax5.boxplot([np.array(defs), np.array(non_defs)], vert=False, flierprops=red_squareragged)"
      ],
      "execution_count": null,
      "outputs": [
        {
          "output_type": "stream",
          "text": [
            "/usr/local/lib/python3.6/dist-packages/numpy/core/_asarray.py:83: VisibleDeprecationWarning: Creating an ndarray from ragged nested sequences (which is a list-or-tuple of lists-or-tuples-or ndarrays with different lengths or shapes) is deprecated. If you meant to do this, you must specify 'dtype=object' when creating the ndarray\n",
            "  return array(a, dtype, copy=False, order=order)\n"
          ],
          "name": "stderr"
        },
        {
          "output_type": "execute_result",
          "data": {
            "text/plain": [
              "{'boxes': [<matplotlib.lines.Line2D at 0x7fa1eeff1588>,\n",
              "  <matplotlib.lines.Line2D at 0x7fa1eeffcda0>],\n",
              " 'caps': [<matplotlib.lines.Line2D at 0x7fa1eeff1f98>,\n",
              "  <matplotlib.lines.Line2D at 0x7fa1eeffc358>,\n",
              "  <matplotlib.lines.Line2D at 0x7fa1ef009898>,\n",
              "  <matplotlib.lines.Line2D at 0x7fa1ef009c18>],\n",
              " 'fliers': [<matplotlib.lines.Line2D at 0x7fa1eeffca58>,\n",
              "  <matplotlib.lines.Line2D at 0x7fa1ef012358>],\n",
              " 'means': [],\n",
              " 'medians': [<matplotlib.lines.Line2D at 0x7fa1eeffc6d8>,\n",
              "  <matplotlib.lines.Line2D at 0x7fa1ef009f98>],\n",
              " 'whiskers': [<matplotlib.lines.Line2D at 0x7fa1eeff1898>,\n",
              "  <matplotlib.lines.Line2D at 0x7fa1eeff1c18>,\n",
              "  <matplotlib.lines.Line2D at 0x7fa1ef009198>,\n",
              "  <matplotlib.lines.Line2D at 0x7fa1ef009518>]}"
            ]
          },
          "metadata": {
            "tags": []
          },
          "execution_count": 293
        },
        {
          "output_type": "display_data",
          "data": {
            "image/png": "[encoded data removed]",
            "text/plain": [
              "<Figure size 432x288 with 1 Axes>"
            ]
          },
          "metadata": {
            "tags": [],
            "needs_background": "light"
          }
        }
      ]
    },
    {
      "cell_type": "markdown",
      "metadata": {
        "id": "APH3Iz2MO-iM"
      },
      "source": [
        "Для того, чтобы узнать, использовать ли параметрический или непараметрический критерий, проверим, насколько распределения в выборках отличаются от нормальных."
      ]
    },
    {
      "cell_type": "code",
      "metadata": {
        "colab": {
          "base_uri": "https://localhost:8080/",
          "height": 276
        },
        "id": "ueGCuTLMO82Z",
        "outputId": "2d07be8a-c228-4eb9-95c8-11759b4472d9"
      },
      "source": [
        "pylab.figure(figsize=(12,8))\n",
        "pylab.subplot(2,2,1)\n",
        "stats.probplot(defs, dist=\"norm\", plot=pylab)\n",
        "pylab.subplot(2,2,2)\n",
        "stats.probplot(non_defs, dist=\"norm\", plot=pylab)\n",
        "pylab.show()"
      ],
      "execution_count": null,
      "outputs": [
        {
          "output_type": "display_data",
          "data": {
            "image/png": "[encoded data removed]",
            "text/plain": [
              "<Figure size 864x576 with 2 Axes>"
            ]
          },
          "metadata": {
            "tags": [],
            "needs_background": "light"
          }
        }
      ]
    },
    {
      "cell_type": "code",
      "metadata": {
        "colab": {
          "base_uri": "https://localhost:8080/"
        },
        "id": "kh7KbSFpMVKh",
        "outputId": "0c7cf95b-ac1f-427a-a342-5a29782f08ab"
      },
      "source": [
        "print(\"Shapiro-Wilk normality test, W-statistic: %f, p-value: %f\" % stats.shapiro(defs))\r\n",
        "print(\"Shapiro-Wilk normality test, W-statistic: %f, p-value: %f\" % stats.shapiro(non_defs))"
      ],
      "execution_count": null,
      "outputs": [
        {
          "output_type": "stream",
          "text": [
            "Shapiro-Wilk normality test, W-statistic: 0.854983, p-value: 0.000000\n",
            "Shapiro-Wilk normality test, W-statistic: 0.919726, p-value: 0.000000\n"
          ],
          "name": "stdout"
        },
        {
          "output_type": "stream",
          "text": [
            "/usr/local/lib/python3.6/dist-packages/scipy/stats/morestats.py:1676: UserWarning: p-value may not be accurate for N > 5000.\n",
            "  warnings.warn(\"p-value may not be accurate for N > 5000.\")\n"
          ],
          "name": "stderr"
        }
      ]
    },
    {
      "cell_type": "markdown",
      "metadata": {
        "id": "RnVi5HSBPtis"
      },
      "source": [
        "Сильно отличается от нормального распределения. Выбираем непараметрические критерии. Манна-Уитни или перестановочный критерий?"
      ]
    },
    {
      "cell_type": "markdown",
      "metadata": {
        "id": "yonCWZ3zy2I1"
      },
      "source": [
        "### Ранговый критерий Манна-Уитни и перестановочный критерий"
      ]
    },
    {
      "cell_type": "code",
      "metadata": {
        "scrolled": true,
        "colab": {
          "base_uri": "https://localhost:8080/"
        },
        "id": "es_q2Gf_y2I2",
        "outputId": "3e153336-cd87-4e0a-b7e6-aae979e21f8b"
      },
      "source": [
        "stats.mannwhitneyu(non_defs, defs)"
      ],
      "execution_count": null,
      "outputs": [
        {
          "output_type": "execute_result",
          "data": {
            "text/plain": [
              "MannwhitneyuResult(statistic=59257217.5, pvalue=6.127742909111652e-190)"
            ]
          },
          "metadata": {
            "tags": []
          },
          "execution_count": 296
        }
      ]
    },
    {
      "cell_type": "code",
      "metadata": {
        "id": "iDeMY5uBO901"
      },
      "source": [
        "def permutation_t_stat_ind(sample1, sample2):\n",
        "    return np.mean(sample1) - np.mean(sample2)\n",
        "\n",
        "def get_random_combinations(n1, n2, max_combinations):\n",
        "    index = list(range(n1 + n2))\n",
        "    indices = set([tuple(index)])\n",
        "    for i in range(max_combinations - 1):\n",
        "        np.random.shuffle(index)\n",
        "        indices.add(tuple(index))\n",
        "    return [(index[:n1], index[n1:]) for index in indices]\n",
        "\n",
        "def permutation_zero_dist_ind(sample1, sample2, max_combinations = None):\n",
        "    joined_sample = np.hstack((sample1, sample2))\n",
        "    n1 = len(sample1)\n",
        "    n = len(joined_sample)\n",
        "    \n",
        "    if max_combinations:\n",
        "        indices = get_random_combinations(n1, len(sample2), max_combinations)\n",
        "    else:\n",
        "        indices = [(list(index), filter(lambda i: i not in index, range(n))) \\\n",
        "                    for index in itertools.combinations(range(n), n1)]\n",
        "    \n",
        "    distr = [joined_sample[list(i[0])].mean() - joined_sample[list(i[1])].mean() \\\n",
        "             for i in indices]\n",
        "    return distr\n",
        "\n",
        "def permutation_test(sample, mean, max_permutations = None, alternative = 'two-sided'):\n",
        "    if alternative not in ('two-sided', 'less', 'greater'):\n",
        "        raise ValueError(\"alternative not recognized\\n\"\n",
        "                         \"should be 'two-sided', 'less' or 'greater'\")\n",
        "    \n",
        "    t_stat = permutation_t_stat_ind(sample, mean)\n",
        "    \n",
        "    zero_distr = permutation_zero_dist_ind(sample, mean, max_permutations)\n",
        "    \n",
        "    if alternative == 'two-sided':\n",
        "        return sum([1. if abs(x) >= abs(t_stat) else 0. for x in zero_distr]) / len(zero_distr)\n",
        "    \n",
        "    if alternative == 'less':\n",
        "        return sum([1. if x <= t_stat else 0. for x in zero_distr]) / len(zero_distr)\n",
        "\n",
        "    if alternative == 'greater':\n",
        "        return sum([1. if x >= t_stat else 0. for x in zero_distr]) / len(zero_distr)"
      ],
      "execution_count": null,
      "outputs": []
    },
    {
      "cell_type": "code",
      "metadata": {
        "colab": {
          "base_uri": "https://localhost:8080/",
          "height": 265
        },
        "id": "nrvql4lwEYwl",
        "outputId": "763760e8-046e-47cf-b762-6e69d01b2d52"
      },
      "source": [
        "pylab.hist(permutation_zero_dist_ind(defs, non_defs, max_combinations = 1000))\r\n",
        "pylab.show()"
      ],
      "execution_count": null,
      "outputs": [
        {
          "output_type": "display_data",
          "data": {
            "image/png": "[encoded data removed]",
            "text/plain": [
              "<Figure size 432x288 with 1 Axes>"
            ]
          },
          "metadata": {
            "tags": [],
            "needs_background": "light"
          }
        }
      ]
    },
    {
      "cell_type": "code",
      "metadata": {
        "colab": {
          "base_uri": "https://localhost:8080/"
        },
        "id": "T9qLwmMOB9xb",
        "outputId": "caf269bd-6bd7-4232-a537-de4a659440cd"
      },
      "source": [
        "print(\"p-value: %f\" % permutation_test(defs, non_defs ,max_permutations = 10000))"
      ],
      "execution_count": null,
      "outputs": [
        {
          "output_type": "stream",
          "text": [
            "p-value: 0.000100\n"
          ],
          "name": "stdout"
        }
      ]
    },
    {
      "cell_type": "markdown",
      "metadata": {
        "id": "Eh5HZeKyBFIQ"
      },
      "source": [
        "Видим что нулевая гипотеза о равенстве распределений LIMIT_BAL в двух выборках на уровне значимости 95% отвергается при помощи обоих критериев, а альтернативная гипотеза о неравенстве распределений LIMIT_BAL принимается.\r\n",
        "\r\n",
        "С точки зрения практической значимости, неравенство распределений означает что вероятность невозврата кредита таки зависит от определённого банком для клиента кредитного лимита. Однако конкретную закономерность для этой зависимости описать сложно, и практическая значимость данного вывода несущественна."
      ]
    },
    {
      "cell_type": "markdown",
      "metadata": {
        "id": "1bOvqCwcRSXY"
      },
      "source": [
        "# 2 задание"
      ]
    },
    {
      "cell_type": "markdown",
      "metadata": {
        "id": "p05Z1Vc3RJpL"
      },
      "source": [
        "Пол (SEX): Проверьте гипотезу о том,  что гендерный состав  группы людей вернувших и не вернувших кредит отличается."
      ]
    },
    {
      "cell_type": "markdown",
      "metadata": {
        "id": "lxspgyzxVtDM"
      },
      "source": [
        "Нулевая гипотеза: доля мужчин и женщин, не вернувших кредит, одинакова. Двусторонняя альтернатива: доля мужчин и женщин, не вернувших кредит, не одинакова. Гипотезу проверяем на уровне значимости 95%.\r\n",
        "\r\n",
        "Представим решение с помощью доверительного интервала и с помощью Z-критерия для разности долей в независимых выборках. Эти методы подробно разобраны на второй неделе курса"
      ]
    },
    {
      "cell_type": "code",
      "metadata": {
        "colab": {
          "base_uri": "https://localhost:8080/",
          "height": 446
        },
        "id": "zm5I5PTq2RqN",
        "outputId": "16666887-8759-42b3-92fb-95eb6aa003d8"
      },
      "source": [
        "plt.figure(figsize(16,7))\r\n",
        "plt.subplot(121)\r\n",
        "good_clients['SEX'].plot.hist(bins=2)\r\n",
        "bad_clients['SEX'].plot.hist(bins=2)\r\n",
        "plt.xlabel('SEX', fontsize=14)\r\n",
        "plt.ylabel('Size', fontsize=14)\r\n",
        "pylab.show()"
      ],
      "execution_count": 13,
      "outputs": [
        {
          "output_type": "display_data",
          "data": {
            "image/png": "[encoded data removed]",
            "text/plain": [
              "<Figure size 1152x504 with 1 Axes>"
            ]
          },
          "metadata": {
            "tags": [],
            "needs_background": "light"
          }
        }
      ]
    },
    {
      "cell_type": "markdown",
      "metadata": {
        "id": "1bRbhlSl2ZbB"
      },
      "source": [
        "Из графика видно что женщины берут кредитов больше чем мужчины. И кажется, более добросовестно кредиты возвращают. Но это надо конечно проверить."
      ]
    },
    {
      "cell_type": "code",
      "metadata": {
        "id": "bv1aSgrTB-L0"
      },
      "source": [
        "data_male = data.default[data.SEX == 1]\r\n",
        "data_female = data.default[data.SEX == 2]"
      ],
      "execution_count": 24,
      "outputs": []
    },
    {
      "cell_type": "markdown",
      "metadata": {
        "id": "u3h1PgOA2d8w"
      },
      "source": [
        "  default | $X_1$ | $X_2$  \r\n",
        "  ------------- | -------------| ---------\r\n",
        "  1  | a | b \r\n",
        "  0  | c | d \r\n",
        "  $\\sum$ | $n_1$| $n_2$\r\n",
        "  \r\n",
        "$$ \\hat{p}_1 = \\frac{a}{n_1}$$\r\n",
        "\r\n",
        "$$ \\hat{p}_2 = \\frac{b}{n_2}$$\r\n",
        "\r\n",
        "\r\n",
        "$$\\text{Доверительный интервал для }p_1 - p_2\\colon \\;\\; \\hat{p}_1 - \\hat{p}_2 \\pm z_{1-\\frac{\\alpha}{2}}\\sqrt{\\frac{\\hat{p}_1(1 - \\hat{p}_1)}{n_1} + \\frac{\\hat{p}_2(1 - \\hat{p}_2)}{n_2}}$$\r\n",
        "\r\n",
        "$$Z-статистика: Z({X_1, X_2}) =  \\frac{\\hat{p}_1 - \\hat{p}_2}{\\sqrt{P(1 - P)(\\frac{1}{n_1} + \\frac{1}{n_2})}}$$\r\n",
        "$$P = \\frac{\\hat{p}_1{n_1} + \\hat{p}_2{n_2}}{{n_1} + {n_2}} $$"
      ]
    },
    {
      "cell_type": "code",
      "metadata": {
        "id": "oxkxhWZcO942"
      },
      "source": [
        "from statsmodels.stats.proportion import proportion_confint\r\n",
        "normal_interval = proportion_confint(sum(data_male), len(data_male), method = 'wilson')\r\n",
        "normal_interval_2 = proportion_confint(sum(data_female), len(data_female), method = 'wilson')"
      ],
      "execution_count": null,
      "outputs": []
    },
    {
      "cell_type": "code",
      "metadata": {
        "id": "hMS-h3TSO96W",
        "colab": {
          "base_uri": "https://localhost:8080/"
        },
        "outputId": "0e10df54-82c9-46a7-b4be-5ecc6a9c3c86"
      },
      "source": [
        "print('normal_interval [%f, %f] with width %f' % (normal_interval[0],\r\n",
        "                                                  normal_interval[1], \r\n",
        "                                                  normal_interval[1] - normal_interval[0]))\r\n",
        "print('normal_interval [%f, %f] with width %f' % (normal_interval_2[0],\r\n",
        "                                                  normal_interval_2[1], \r\n",
        "                                                  normal_interval_2[1] - normal_interval_2[0]))"
      ],
      "execution_count": null,
      "outputs": [
        {
          "output_type": "stream",
          "text": [
            "normal_interval [0.234061, 0.249450] with width 0.015389\n",
            "normal_interval [0.201917, 0.213733] with width 0.011816\n"
          ],
          "name": "stdout"
        }
      ]
    },
    {
      "cell_type": "markdown",
      "metadata": {
        "id": "ml352oqUcWPB"
      },
      "source": [
        "Интервалы не пересекаются"
      ]
    },
    {
      "cell_type": "code",
      "metadata": {
        "id": "G0-4a-d3O99F"
      },
      "source": [
        "def proportions_confint_diff_ind(sample1, sample2, alpha = 0.05):    \r\n",
        "    z = scipy.stats.norm.ppf(1 - alpha / 2.)   \r\n",
        "    p1 = float(sum(sample1)) / len(sample1)\r\n",
        "    p2 = float(sum(sample2)) / len(sample2)\r\n",
        "    \r\n",
        "    left_boundary = (p1 - p2) - z * np.sqrt(p1 * (1 - p1)/ len(sample1) + p2 * (1 - p2)/ len(sample2))\r\n",
        "    right_boundary = (p1 - p2) + z * np.sqrt(p1 * (1 - p1)/ len(sample1) + p2 * (1 - p2)/ len(sample2))\r\n",
        "    \r\n",
        "    return (left_boundary, right_boundary)"
      ],
      "execution_count": 28,
      "outputs": []
    },
    {
      "cell_type": "code",
      "metadata": {
        "id": "HK7570giO-BJ",
        "colab": {
          "base_uri": "https://localhost:8080/"
        },
        "outputId": "4c8cd21f-20a4-451d-9a2c-16628f33c67c"
      },
      "source": [
        "print(\"confidence interval: [%f, %f]\" % proportions_confint_diff_ind(data_male, data_female))"
      ],
      "execution_count": null,
      "outputs": [
        {
          "output_type": "stream",
          "text": [
            "confidence interval: [0.024207, 0.043612]\n"
          ],
          "name": "stdout"
        }
      ]
    },
    {
      "cell_type": "code",
      "metadata": {
        "id": "z1ByP9HUJk_g",
        "colab": {
          "base_uri": "https://localhost:8080/"
        },
        "outputId": "7497092a-1f7e-41e7-944f-eabed45a4a79"
      },
      "source": [
        "def proportions_diff_z_stat_ind(sample1, sample2):\r\n",
        "    n1 = len(sample1)\r\n",
        "    n2 = len(sample2)\r\n",
        "    \r\n",
        "    p1 = float(sum(sample1)) / n1\r\n",
        "    p2 = float(sum(sample2)) / n2 \r\n",
        "    P = float(p1*n1 + p2*n2) / (n1 + n2)\r\n",
        "    \r\n",
        "    return (p1 - p2) / np.sqrt(P * (1 - P) * (1. / n1 + 1. / n2))\r\n",
        "def proportions_diff_z_test(z_stat, alternative='two-sided'):\r\n",
        "    if alternative not in ('two-sided', 'less', 'greater'):\r\n",
        "        raise ValueError(\"alternative not recognized\\n\"\r\n",
        "                         \"should be 'two-sided', 'less' or 'greater'\")\r\n",
        "    \r\n",
        "    if alternative == 'two-sided':\r\n",
        "        return 2 * (1 - stats.norm.cdf(np.abs(z_stat)))\r\n",
        "    \r\n",
        "    if alternative == 'less':\r\n",
        "        return stats.norm.cdf(z_stat)\r\n",
        "\r\n",
        "    if alternative == 'greater':\r\n",
        "        return 1 - stats.norm.cdf(z_stat)\r\n",
        "print('p-value: %.15f' % proportions_diff_z_test(proportions_diff_z_stat_ind(np.abs(data_male), np.abs(data_female))))\r\n"
      ],
      "execution_count": 26,
      "outputs": [
        {
          "output_type": "stream",
          "text": [
            "p-value: 0.000000000004473\n"
          ],
          "name": "stdout"
        }
      ]
    },
    {
      "cell_type": "markdown",
      "metadata": {
        "id": "PKg5zqtM2tcp"
      },
      "source": [
        "Нулевая гипотеза о равенстве долей мужчин и женщин, вернувших кредит, отвергается Z-критерием с p-value 4 * 10e-12. Женщины возвращают кредит на 3% чаще мужчин, доверительный интервал для разности вероятностей [0.024, 0.044] на уровне значимости 95%.\r\n",
        "\r\n",
        "Практическая значимость данного результата - в формуле расчёта кредитного скоринга пол учитывать нужно."
      ]
    },
    {
      "cell_type": "markdown",
      "metadata": {
        "id": "0Bd5JpbvkV3b"
      },
      "source": [
        "# 3 задание"
      ]
    },
    {
      "cell_type": "markdown",
      "metadata": {
        "id": "LdgFprR3kXqP"
      },
      "source": [
        "Образование (EDUCATION): Проверьте гипотезу о том, что образование не влияет на то, вернет ли человек долг.  Предложите способ наглядного представления разницы в ожидаемых и наблюдаемых значениях количества человек вернувших и не вернувших долг. Например, составьте таблицу сопряженности \"образование\" на \"возврат долга\", где значением ячейки была бы  разность между наблюдаемым и ожидаемым количеством человек.  Как бы вы предложили модифицировать таблицу так, чтобы привести значения ячеек к одному масштабу не потеряв в интерпретируемости ?  Наличие какого образования является наилучшим индикатором того, что человек  отдаст долг ? наоборт, не отдаст долг ?"
      ]
    },
    {
      "cell_type": "markdown",
      "metadata": {
        "id": "vtDhqrH5WOqV"
      },
      "source": [
        "H0: рассматривая величина имеет равномерное распределение\r\n",
        "\r\n",
        "H1: H0 не верна"
      ]
    },
    {
      "cell_type": "code",
      "metadata": {
        "id": "9X1HogwJyIMi"
      },
      "source": [
        "non_defs = data[data.default == 0]\r\n",
        "defs = data[data.default == 1]\r\n"
      ],
      "execution_count": 14,
      "outputs": []
    },
    {
      "cell_type": "code",
      "metadata": {
        "id": "H0_GR3NvJlnS"
      },
      "source": [
        "dy = ([len(defs[defs.EDUCATION == 0]), len(non_defs[non_defs.EDUCATION == 0])], \r\n",
        "      [len(defs[defs.EDUCATION == 1]), len(non_defs[non_defs.EDUCATION == 1])], \r\n",
        "      [len(defs[defs.EDUCATION == 2]), len(non_defs[non_defs.EDUCATION == 2])], \r\n",
        "      [len(defs[defs.EDUCATION == 3]), len(non_defs[non_defs.EDUCATION == 3])], \r\n",
        "      [len(defs[defs.EDUCATION == 4]), len(non_defs[non_defs.EDUCATION == 4])], \r\n",
        "      [len(defs[defs.EDUCATION == 5]), len(non_defs[non_defs.EDUCATION == 5])], \r\n",
        "      [len(defs[defs.EDUCATION == 6]), len(non_defs[non_defs.EDUCATION == 6])])"
      ],
      "execution_count": 15,
      "outputs": []
    },
    {
      "cell_type": "code",
      "metadata": {
        "id": "VTJg5B9ZJlqW"
      },
      "source": [
        "chi, pi_value, ddof, expected = chi2_contingency(dy)"
      ],
      "execution_count": 16,
      "outputs": []
    },
    {
      "cell_type": "markdown",
      "metadata": {
        "id": "StS78RvxS9lY"
      },
      "source": [
        "Разность между наблюдаемым и ожидаемым количеством человек"
      ]
    },
    {
      "cell_type": "code",
      "metadata": {
        "id": "4KiIjfbzJmA-",
        "colab": {
          "base_uri": "https://localhost:8080/"
        },
        "outputId": "fc3b4e60-bf22-4f67-f770-b8bb0e71ef8e"
      },
      "source": [
        "for i in range(7):\r\n",
        "  print(*map(int, ((dy[i] - expected[i]))))"
      ],
      "execution_count": 17,
      "outputs": [
        {
          "output_type": "stream",
          "text": [
            "-3 3\n",
            "-305 305\n",
            "226 -226\n",
            "149 -149\n",
            "-20 20\n",
            "-43 43\n",
            "-3 3\n"
          ],
          "name": "stdout"
        }
      ]
    },
    {
      "cell_type": "markdown",
      "metadata": {
        "id": "jbkvJOUgTEMG"
      },
      "source": [
        "Разность в процентах - моя модификация исходной таблицы"
      ]
    },
    {
      "cell_type": "code",
      "metadata": {
        "colab": {
          "base_uri": "https://localhost:8080/"
        },
        "id": "IjIS5xOSRqwj",
        "outputId": "bb4dde65-4d15-4cca-ced2-089f2babefa4"
      },
      "source": [
        "for i in range(7):\r\n",
        "  print(*map(int, ((dy[i] - expected[i])/expected[i])*100))"
      ],
      "execution_count": 21,
      "outputs": [
        {
          "output_type": "stream",
          "text": [
            "-100 28\n",
            "-13 3\n",
            "7 -2\n",
            "13 -3\n",
            "-74 21\n",
            "-70 20\n",
            "-29 8\n"
          ],
          "name": "stdout"
        }
      ]
    },
    {
      "cell_type": "markdown",
      "metadata": {
        "id": "mTgUcihDTMU7"
      },
      "source": [
        "Из таблицы видно, что люди с образованием (0 = доктор, 1 = магистр) практически всегда отдают долги, люди же с  уровнем (2 = бакалавр; 3 = выпускник школы) отдают их реже. Люди с  (4 = начальное образование; 5= прочее; 6 = нет данных) тоже хорошо отдают долги - возможно тут было больше отказов и согласие на кредит давали по другим критериям."
      ]
    },
    {
      "cell_type": "markdown",
      "metadata": {
        "id": "uCFAdmEz4gHj"
      },
      "source": [
        "Для того чтобы отвергнуть нулевую гипотезу о том что уровень образования не влияет на вероятность возврата кредита, достаточно проверить её против альтернативы о том что отличия между магистрами и бакалаврами статистически значимы на уровне 95%. Давайте сделаем это, используя те же критерии что и в задании 2:"
      ]
    },
    {
      "cell_type": "code",
      "metadata": {
        "colab": {
          "base_uri": "https://localhost:8080/"
        },
        "id": "xuAcCBNY4fui",
        "outputId": "1e983afb-b950-4e57-ddab-ffbb81e9d312"
      },
      "source": [
        "sample1 = data[data['EDUCATION'] == 1]['default']\r\n",
        "sample2 = data[data['EDUCATION'] == 2]['default']\r\n",
        "print(\"95%% confidence interval for a difference between proportions: [%f, %f]\" % proportions_confint_diff_ind(sample1, sample2))\r\n",
        "print(\"p-value:\", proportions_diff_z_test(proportions_diff_z_stat_ind(sample1, sample2)))"
      ],
      "execution_count": 30,
      "outputs": [
        {
          "output_type": "stream",
          "text": [
            "95% confidence interval for a difference between proportions: [-0.055294, -0.034708]\n",
            "p-value: 0.0\n"
          ],
          "name": "stdout"
        }
      ]
    },
    {
      "cell_type": "markdown",
      "metadata": {
        "id": "K6ljX0tW5I_t"
      },
      "source": [
        "Так и есть. Гипотеза о том что уровень образования не влияет на вероятность возврата кредита отвергается. Уровень образования следует брать во внимание при расчёте задачи кредитного скоринга."
      ]
    },
    {
      "cell_type": "markdown",
      "metadata": {
        "id": "wnShjdF05K6y"
      },
      "source": [
        "# 4 задание"
      ]
    },
    {
      "cell_type": "markdown",
      "metadata": {
        "id": "N5GJ0umCc66y"
      },
      "source": [
        "Семейное положение (MARRIAGE): Проверьте, как связан семейный статус с индикатором дефолта: нужно предложить меру, по которой можно измерить возможную связь этих переменных и посчитать ее значение."
      ]
    },
    {
      "cell_type": "code",
      "metadata": {
        "colab": {
          "base_uri": "https://localhost:8080/",
          "height": 446
        },
        "id": "jFq05XC05SK6",
        "outputId": "80c21d88-245e-4a44-a698-872d53765d5d"
      },
      "source": [
        "plt.figure(figsize(16,7))\r\n",
        "plt.subplot(121)\r\n",
        "good_clients['MARRIAGE'].plot.hist(bins=4)\r\n",
        "bad_clients['MARRIAGE'].plot.hist(bins=4)\r\n",
        "plt.xlabel('MARRIAGE', fontsize=14)\r\n",
        "plt.ylabel('Size', fontsize=14)\r\n",
        "pylab.show()"
      ],
      "execution_count": 31,
      "outputs": [
        {
          "output_type": "display_data",
          "data": {
            "image/png": "[encoded data removed]",
            "text/plain": [
              "<Figure size 1152x504 with 1 Axes>"
            ]
          },
          "metadata": {
            "tags": [],
            "needs_background": "light"
          }
        }
      ]
    },
    {
      "cell_type": "markdown",
      "metadata": {
        "id": "DTGdzgUp5ajb"
      },
      "source": [
        "Из графика кажется что доля надёжных заёмщиков среди холостых больше чем соответствующая доля среди женатых. Попробуем проверить что это отличие является статистически значимым.\r\n",
        "\r\n",
        "Нулевая гипотеза: доля женатых и холостых, не вернувших кредит, одинакова. Двусторонняя альтернатива: доля женатых и холостых, не вернувших кредит, не одинакова. Используя те же методы что и выше, проверяем гипотезу на уровне значимости 95%."
      ]
    },
    {
      "cell_type": "code",
      "metadata": {
        "id": "AYc3Hz9cdKAO"
      },
      "source": [
        "dx = ([len(defs[defs.MARRIAGE == 0]), len(non_defs[non_defs.MARRIAGE == 0])], \r\n",
        "      [len(defs[defs.MARRIAGE == 1]), len(non_defs[non_defs.MARRIAGE == 1])], \r\n",
        "      [len(defs[defs.MARRIAGE == 2]), len(non_defs[non_defs.MARRIAGE == 2])], \r\n",
        "      [len(defs[defs.MARRIAGE == 3]), len(non_defs[non_defs.MARRIAGE == 3])])\r\n",
        "chi_square, pi, d, expy = chi2_contingency(dx)"
      ],
      "execution_count": null,
      "outputs": []
    },
    {
      "cell_type": "code",
      "metadata": {
        "colab": {
          "base_uri": "https://localhost:8080/"
        },
        "id": "xt6gj-gFgDhV",
        "outputId": "cec0950e-d20d-443b-f656-5a9b766b760c"
      },
      "source": [
        "chi_square"
      ],
      "execution_count": null,
      "outputs": [
        {
          "output_type": "execute_result",
          "data": {
            "text/plain": [
              "35.66239583433609"
            ]
          },
          "metadata": {
            "tags": []
          },
          "execution_count": 311
        }
      ]
    },
    {
      "cell_type": "markdown",
      "metadata": {
        "id": "whKQByG15od3"
      },
      "source": [
        "Критерий Крамера - модификация критерия хи-квадрат, которая отличается нормировкой, этот критерий принадлежит отрезку [0, 1], чем он меньше, тем меньше взаимосвзясь\r\n",
        "\r\n",
        "Статистика критерия Крамера: $$V=\\sum_{i=1}^K \\frac{\\left(n_i- np_i\\right)^2}{k-1}$$"
      ]
    },
    {
      "cell_type": "code",
      "metadata": {
        "id": "dgsnq0Nlg3nQ"
      },
      "source": [
        "def cramers_stat(confusion_matrix):\r\n",
        "    chi2 = stats.chi2_contingency(confusion_matrix)[0]\r\n",
        "    n = confusion_matrix.sum()\r\n",
        "    return np.sqrt(chi2 / (n*(min(confusion_matrix.shape)-1)))"
      ],
      "execution_count": null,
      "outputs": []
    },
    {
      "cell_type": "code",
      "metadata": {
        "colab": {
          "base_uri": "https://localhost:8080/"
        },
        "id": "2fpEMzuag69U",
        "outputId": "088daa87-7972-442f-9a06-3d3a63d818b9"
      },
      "source": [
        "print('V Cramer stat value: %.4f' % cramers_stat(np.array(dx)))"
      ],
      "execution_count": null,
      "outputs": [
        {
          "output_type": "stream",
          "text": [
            "V Cramer stat value: 0.0345\n"
          ],
          "name": "stdout"
        }
      ]
    },
    {
      "cell_type": "markdown",
      "metadata": {
        "id": "VSJXY2WqiZDi"
      },
      "source": [
        "\r\n",
        "\r\n",
        "Взаимосвязь очень маленькая"
      ]
    },
    {
      "cell_type": "code",
      "metadata": {
        "colab": {
          "base_uri": "https://localhost:8080/"
        },
        "id": "DsHxwarO5sdm",
        "outputId": "3045a916-8740-40a9-c4ec-f9e38ba5eace"
      },
      "source": [
        "sample1 = data[data['MARRIAGE'] == 1]['default']\r\n",
        "sample2 = data[data['MARRIAGE'] == 2]['default']\r\n",
        "print(\"95%% confidence interval for a difference between proportions: [%f, %f]\" % proportions_confint_diff_ind(sample1, sample2))\r\n",
        "print(\"p-value:\", proportions_diff_z_test(proportions_diff_z_stat_ind(sample1, sample2)))"
      ],
      "execution_count": 33,
      "outputs": [
        {
          "output_type": "stream",
          "text": [
            "95% confidence interval for a difference between proportions: [0.015929, 0.034938]\n",
            "p-value: 1.448514344026819e-07\n"
          ],
          "name": "stdout"
        }
      ]
    },
    {
      "cell_type": "code",
      "metadata": {
        "colab": {
          "base_uri": "https://localhost:8080/"
        },
        "id": "bjm2Uu405vfB",
        "outputId": "fabe66a8-aeaa-493b-8642-458c9f601ea5"
      },
      "source": [
        "print(\"95%% confidence interval for a difference between proportions: [%f, %f]\" %\\\r\n",
        "      proportions_confint_diff_ind(data[data['MARRIAGE'] == 1]['default'], data[data['MARRIAGE'] == 2]['default']))"
      ],
      "execution_count": 35,
      "outputs": [
        {
          "output_type": "stream",
          "text": [
            "95% confidence interval for a difference between proportions: [0.015929, 0.034938]\n"
          ],
          "name": "stdout"
        }
      ]
    },
    {
      "cell_type": "markdown",
      "metadata": {
        "id": "wgPt10MQ6ExP"
      },
      "source": [
        "Так и есть. Нулевая гипотеза о равенстве долей женатых и холостых, вернувших кредит, отвергается Z-критерием. Холостые возвращают кредит на 2.5% чаще чем женатые, видимо потому что имея семью кредит вернуть сложнее. Доверительный интервал для разности вероятностей [0.016, 0.034] на уровне значимости 95%.\r\n",
        "\r\n",
        "Практическая значимость данного результата - в формуле расчёта кредитного скоринга семейное положение учитывать нужно, хоть и влияние этого признака очень маленькое."
      ]
    },
    {
      "cell_type": "markdown",
      "metadata": {
        "id": "Bp7QmzQxkt_H"
      },
      "source": [
        "# 5 задание\r\n",
        "Возраст (AGE): Относительно двух групп людей  вернувших и не вернувших кредит  проверьте следующие гипотезы:   a)  о равенстве медианных значений возрастов людей   b) о равенстве распределений  с помощью одного из подходящих непараметрических критериев проверки равенства средних.  Значимы ли полученные результаты с практической точки зрения ?"
      ]
    },
    {
      "cell_type": "code",
      "metadata": {
        "colab": {
          "base_uri": "https://localhost:8080/",
          "height": 446
        },
        "id": "BXNF8pvv6clU",
        "outputId": "05a322fc-ca5e-47bc-9a8f-244863622650"
      },
      "source": [
        "plt.figure(figsize(16,7))\r\n",
        "plt.subplot(121)\r\n",
        "good_clients['AGE'].plot.hist(bins=20)\r\n",
        "bad_clients['AGE'].plot.hist(bins=20)\r\n",
        "plt.xlabel('AGE', fontsize=14)\r\n",
        "pylab.show()"
      ],
      "execution_count": 36,
      "outputs": [
        {
          "output_type": "display_data",
          "data": {
            "image/png": "[encoded data removed]",
            "text/plain": [
              "<Figure size 1152x504 with 1 Axes>"
            ]
          },
          "metadata": {
            "tags": [],
            "needs_background": "light"
          }
        }
      ]
    },
    {
      "cell_type": "markdown",
      "metadata": {
        "id": "8ZWwxUP5T8KV"
      },
      "source": [
        "H0 - медианы равны\r\n",
        "\r\n",
        "H1 - не равны"
      ]
    },
    {
      "cell_type": "code",
      "metadata": {
        "colab": {
          "base_uri": "https://localhost:8080/"
        },
        "id": "NcVP3cXP1cOP",
        "outputId": "3a4ad9c3-6ff2-41e0-dbdb-359c01e12c0a"
      },
      "source": [
        "print(stat_intervals(list(map(np.median, get_bootstrap_samples(np.array(defs.AGE), 1000))), 0.05))\r\n",
        "print(stat_intervals(list(map(np.median, get_bootstrap_samples(np.array(non_defs.AGE), 1000))), 0.05))"
      ],
      "execution_count": null,
      "outputs": [
        {
          "output_type": "stream",
          "text": [
            "[34. 35.]\n",
            "[34. 34.]\n"
          ],
          "name": "stdout"
        }
      ]
    },
    {
      "cell_type": "code",
      "metadata": {
        "colab": {
          "base_uri": "https://localhost:8080/"
        },
        "id": "jlTndcm86mzj",
        "outputId": "5ad1d91b-31f3-44f3-9c29-e953db62b27d"
      },
      "source": [
        "good_clients_median_scores = list(map(np.median, get_bootstrap_samples(good_clients['AGE'].values, 100)))\r\n",
        "bad_clients_median_scores = list(map(np.median, get_bootstrap_samples(bad_clients['AGE'].values, 100)))\r\n",
        "print(\"difference between medians:\", np.median(good_clients['AGE'].values) - np.median(bad_clients['AGE'].values))\r\n",
        "\r\n",
        "delta_median_scores = list(map(lambda x: x[1] - x[0], zip(good_clients_median_scores, bad_clients_median_scores)))\r\n",
        "print(\"95% confidence interval for the difference between medians\",  stat_intervals(delta_median_scores, 0.05))"
      ],
      "execution_count": 40,
      "outputs": [
        {
          "output_type": "stream",
          "text": [
            "difference between medians: 0.0\n",
            "95% confidence interval for the difference between medians [0. 1.]\n"
          ],
          "name": "stdout"
        }
      ]
    },
    {
      "cell_type": "markdown",
      "metadata": {
        "id": "wyqUoGo-645_"
      },
      "source": [
        "Интервалы пересекаются, приближенный способ подтверждает гипотезу о равенстве медиан\r\n",
        "С точки зрения практической значимости это означает что возраст можно исключить из списка параметров для расчёта кредитного скоринга."
      ]
    },
    {
      "cell_type": "markdown",
      "metadata": {
        "id": "6KSTu0kxVDM9"
      },
      "source": [
        "5b)\r\n",
        "Аналогично заданию 1b, здесь мы будем проверять нулевую гипотезу о том что распределения AGE одинаковы для плохих и хороших клиентов (сдвиг распределений равен нулю), против двусторонней альтернативы о том что эти значения не равны (сдвиг распределений отличен от нуля) на уровне значимости 95%."
      ]
    },
    {
      "cell_type": "code",
      "metadata": {
        "colab": {
          "base_uri": "https://localhost:8080/"
        },
        "id": "5j00LiGN3T8Q",
        "outputId": "61dcc419-13be-419a-a109-d7d2c5248800"
      },
      "source": [
        "print('p-value: %f' % permutation_test(defs.AGE, non_defs.AGE, max_permutations=1000))"
      ],
      "execution_count": null,
      "outputs": [
        {
          "output_type": "stream",
          "text": [
            "p-value: 0.019000\n"
          ],
          "name": "stdout"
        }
      ]
    },
    {
      "cell_type": "markdown",
      "metadata": {
        "id": "h9013kkdU7Fm"
      },
      "source": [
        "На уровне значимости 95% альтернативная гипотеза отвергается перестановочным критерием. Распределения можно считать равными.\r\n",
        "\r\n",
        "Практическая значимость? Подтверждается то же что и выше: на AGE при расчёте кредитного скоринга можно не смотреть."
      ]
    }
  ]
}