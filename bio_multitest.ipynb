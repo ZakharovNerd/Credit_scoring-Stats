{
  "nbformat": 4,
  "nbformat_minor": 0,
  "metadata": {
    "kernelspec": {
      "display_name": "Python 3",
      "language": "python",
      "name": "python3"
    },
    "language_info": {
      "codemirror_mode": {
        "name": "ipython",
        "version": 3
      },
      "file_extension": ".py",
      "mimetype": "text/x-python",
      "name": "python",
      "nbconvert_exporter": "python",
      "pygments_lexer": "ipython3",
      "version": "3.8.5"
    },
    "colab": {
      "name": "bio_multitest.ipynb",
      "provenance": []
    }
  },
  "cells": [
    {
      "cell_type": "code",
      "metadata": {
        "id": "QGYUVaagg7Qc"
      },
      "source": [
        "import pandas as pd \r\n",
        "import numpy as np\r\n",
        "import scipy\r\n",
        "from statsmodels.stats.weightstats import *\r\n",
        "from statsmodels.sandbox.stats.multicomp import multipletests "
      ],
      "execution_count": 3,
      "outputs": []
    },
    {
      "cell_type": "code",
      "metadata": {
        "id": "Cczmf4BQg7g4"
      },
      "source": [
        "data = pd.read_csv('/content/_cc291fb54b232482695c784776896188_gene_high_throughput_sequencing (1).csv')"
      ],
      "execution_count": 42,
      "outputs": []
    },
    {
      "cell_type": "code",
      "metadata": {
        "colab": {
          "base_uri": "https://localhost:8080/",
          "height": 251
        },
        "id": "CvHIGysKk1pe",
        "outputId": "d4a6d306-cec9-4425-ee38-f1673d604e49"
      },
      "source": [
        "data.head()"
      ],
      "execution_count": 33,
      "outputs": [
        {
          "output_type": "execute_result",
          "data": {
            "text/html": [
              "<div>\n",
              "<style scoped>\n",
              "    .dataframe tbody tr th:only-of-type {\n",
              "        vertical-align: middle;\n",
              "    }\n",
              "\n",
              "    .dataframe tbody tr th {\n",
              "        vertical-align: top;\n",
              "    }\n",
              "\n",
              "    .dataframe thead th {\n",
              "        text-align: right;\n",
              "    }\n",
              "</style>\n",
              "<table border=\"1\" class=\"dataframe\">\n",
              "  <thead>\n",
              "    <tr style=\"text-align: right;\">\n",
              "      <th></th>\n",
              "      <th>Patient_id</th>\n",
              "      <th>Diagnosis</th>\n",
              "      <th>LOC643837</th>\n",
              "      <th>LOC100130417</th>\n",
              "      <th>SAMD11</th>\n",
              "      <th>NOC2L</th>\n",
              "      <th>KLHL17</th>\n",
              "      <th>PLEKHN1</th>\n",
              "      <th>C1orf170</th>\n",
              "      <th>HES4</th>\n",
              "      <th>ISG15</th>\n",
              "      <th>AGRN</th>\n",
              "      <th>C1orf159</th>\n",
              "      <th>LOC254099</th>\n",
              "      <th>TTLL10</th>\n",
              "      <th>TNFRSF18</th>\n",
              "      <th>TNFRSF4</th>\n",
              "      <th>SDF4</th>\n",
              "      <th>B3GALT6</th>\n",
              "      <th>FAM132A</th>\n",
              "      <th>UBE2J2</th>\n",
              "      <th>SCNN1D</th>\n",
              "      <th>ACAP3</th>\n",
              "      <th>PUSL1</th>\n",
              "      <th>CPSF3L</th>\n",
              "      <th>GLTPD1</th>\n",
              "      <th>DVL1</th>\n",
              "      <th>MXRA8</th>\n",
              "      <th>AURKAIP1</th>\n",
              "      <th>CCNL2</th>\n",
              "      <th>LOC148413</th>\n",
              "      <th>MRPL20</th>\n",
              "      <th>LOC441869</th>\n",
              "      <th>VWA1</th>\n",
              "      <th>ATAD3C</th>\n",
              "      <th>ATAD3B</th>\n",
              "      <th>ATAD3A</th>\n",
              "      <th>C1orf70</th>\n",
              "      <th>SSU72</th>\n",
              "      <th>LOC643988</th>\n",
              "      <th>...</th>\n",
              "      <th>RENBP</th>\n",
              "      <th>HCFC1</th>\n",
              "      <th>TMEM187</th>\n",
              "      <th>IRAK1</th>\n",
              "      <th>MECP2</th>\n",
              "      <th>TKTL1</th>\n",
              "      <th>FLNA</th>\n",
              "      <th>EMD</th>\n",
              "      <th>RPL10</th>\n",
              "      <th>SNORA70</th>\n",
              "      <th>DNASE1L1</th>\n",
              "      <th>TAZ</th>\n",
              "      <th>ATP6AP1</th>\n",
              "      <th>GDI1</th>\n",
              "      <th>FAM50A</th>\n",
              "      <th>PLXNA3</th>\n",
              "      <th>LAGE3</th>\n",
              "      <th>UBL4A</th>\n",
              "      <th>SLC10A3</th>\n",
              "      <th>FAM3A</th>\n",
              "      <th>G6PD</th>\n",
              "      <th>GAB3</th>\n",
              "      <th>DKC1</th>\n",
              "      <th>MPP1</th>\n",
              "      <th>F8</th>\n",
              "      <th>FUNDC2</th>\n",
              "      <th>MTCP1NB</th>\n",
              "      <th>MTCP1</th>\n",
              "      <th>VBP1</th>\n",
              "      <th>RAB39B</th>\n",
              "      <th>CLIC2</th>\n",
              "      <th>RPS4Y1</th>\n",
              "      <th>ZFY</th>\n",
              "      <th>PRKY</th>\n",
              "      <th>USP9Y</th>\n",
              "      <th>DDX3Y</th>\n",
              "      <th>CD24</th>\n",
              "      <th>CYorf15B</th>\n",
              "      <th>KDM5D</th>\n",
              "      <th>EIF1AY</th>\n",
              "    </tr>\n",
              "  </thead>\n",
              "  <tbody>\n",
              "    <tr>\n",
              "      <th>0</th>\n",
              "      <td>STT5425_Breast_001_normal</td>\n",
              "      <td>normal</td>\n",
              "      <td>1.257614</td>\n",
              "      <td>2.408148</td>\n",
              "      <td>13.368622</td>\n",
              "      <td>9.494779</td>\n",
              "      <td>20.880435</td>\n",
              "      <td>12.722017</td>\n",
              "      <td>9.494779</td>\n",
              "      <td>54.349694</td>\n",
              "      <td>26.329928</td>\n",
              "      <td>57.553312</td>\n",
              "      <td>42.455733</td>\n",
              "      <td>6.614939</td>\n",
              "      <td>7.786382</td>\n",
              "      <td>14.283751</td>\n",
              "      <td>18.752091</td>\n",
              "      <td>65.825821</td>\n",
              "      <td>17.471334</td>\n",
              "      <td>14.135344</td>\n",
              "      <td>42.949564</td>\n",
              "      <td>35.946652</td>\n",
              "      <td>50.945017</td>\n",
              "      <td>19.738267</td>\n",
              "      <td>52.172044</td>\n",
              "      <td>34.753563</td>\n",
              "      <td>27.810055</td>\n",
              "      <td>83.303689</td>\n",
              "      <td>59.428091</td>\n",
              "      <td>42.306459</td>\n",
              "      <td>13.209938</td>\n",
              "      <td>20.161089</td>\n",
              "      <td>1.257614</td>\n",
              "      <td>66.621905</td>\n",
              "      <td>3.772842</td>\n",
              "      <td>40.210889</td>\n",
              "      <td>30.278655</td>\n",
              "      <td>14.576032</td>\n",
              "      <td>73.168939</td>\n",
              "      <td>34.692832</td>\n",
              "      <td>...</td>\n",
              "      <td>3.164926</td>\n",
              "      <td>20.369209</td>\n",
              "      <td>5.577156</td>\n",
              "      <td>22.438224</td>\n",
              "      <td>20.981186</td>\n",
              "      <td>1.257614</td>\n",
              "      <td>146.983123</td>\n",
              "      <td>33.074695</td>\n",
              "      <td>4.761250</td>\n",
              "      <td>5.185276</td>\n",
              "      <td>15.282298</td>\n",
              "      <td>24.761483</td>\n",
              "      <td>66.017756</td>\n",
              "      <td>51.888333</td>\n",
              "      <td>40.000566</td>\n",
              "      <td>19.950798</td>\n",
              "      <td>19.306187</td>\n",
              "      <td>26.007591</td>\n",
              "      <td>10.139210</td>\n",
              "      <td>40.105866</td>\n",
              "      <td>43.047651</td>\n",
              "      <td>4.761250</td>\n",
              "      <td>30.624906</td>\n",
              "      <td>9.714340</td>\n",
              "      <td>5.577156</td>\n",
              "      <td>4.761250</td>\n",
              "      <td>10.139210</td>\n",
              "      <td>2.408148</td>\n",
              "      <td>12.214621</td>\n",
              "      <td>3.164926</td>\n",
              "      <td>4.761250</td>\n",
              "      <td>1.257614</td>\n",
              "      <td>1.257614</td>\n",
              "      <td>1.257614</td>\n",
              "      <td>1.257614</td>\n",
              "      <td>1.257614</td>\n",
              "      <td>23.268694</td>\n",
              "      <td>1.257614</td>\n",
              "      <td>1.257614</td>\n",
              "      <td>1.257614</td>\n",
              "    </tr>\n",
              "    <tr>\n",
              "      <th>1</th>\n",
              "      <td>STT5427_Breast_023_normal</td>\n",
              "      <td>normal</td>\n",
              "      <td>4.567931</td>\n",
              "      <td>16.602734</td>\n",
              "      <td>42.477752</td>\n",
              "      <td>25.562376</td>\n",
              "      <td>23.221137</td>\n",
              "      <td>11.622386</td>\n",
              "      <td>14.330573</td>\n",
              "      <td>72.445474</td>\n",
              "      <td>39.140813</td>\n",
              "      <td>119.572567</td>\n",
              "      <td>47.367114</td>\n",
              "      <td>4.567931</td>\n",
              "      <td>8.049497</td>\n",
              "      <td>31.421187</td>\n",
              "      <td>19.744990</td>\n",
              "      <td>123.120249</td>\n",
              "      <td>20.615707</td>\n",
              "      <td>16.865244</td>\n",
              "      <td>73.826942</td>\n",
              "      <td>45.474497</td>\n",
              "      <td>63.043023</td>\n",
              "      <td>28.021783</td>\n",
              "      <td>62.483096</td>\n",
              "      <td>60.409871</td>\n",
              "      <td>41.747570</td>\n",
              "      <td>124.715481</td>\n",
              "      <td>128.770634</td>\n",
              "      <td>33.452597</td>\n",
              "      <td>17.876777</td>\n",
              "      <td>28.947097</td>\n",
              "      <td>1.815112</td>\n",
              "      <td>113.503762</td>\n",
              "      <td>1.815112</td>\n",
              "      <td>45.954959</td>\n",
              "      <td>36.946925</td>\n",
              "      <td>15.222429</td>\n",
              "      <td>127.777507</td>\n",
              "      <td>66.567847</td>\n",
              "      <td>...</td>\n",
              "      <td>12.355210</td>\n",
              "      <td>22.255175</td>\n",
              "      <td>9.075559</td>\n",
              "      <td>38.347144</td>\n",
              "      <td>21.245338</td>\n",
              "      <td>1.815112</td>\n",
              "      <td>152.191825</td>\n",
              "      <td>49.097571</td>\n",
              "      <td>8.577883</td>\n",
              "      <td>1.815112</td>\n",
              "      <td>23.965891</td>\n",
              "      <td>30.426817</td>\n",
              "      <td>160.727095</td>\n",
              "      <td>82.216081</td>\n",
              "      <td>60.045184</td>\n",
              "      <td>40.681726</td>\n",
              "      <td>70.040738</td>\n",
              "      <td>44.200859</td>\n",
              "      <td>13.379397</td>\n",
              "      <td>60.045184</td>\n",
              "      <td>72.566645</td>\n",
              "      <td>1.815112</td>\n",
              "      <td>21.451109</td>\n",
              "      <td>6.199787</td>\n",
              "      <td>1.815112</td>\n",
              "      <td>6.199787</td>\n",
              "      <td>5.445335</td>\n",
              "      <td>3.475674</td>\n",
              "      <td>9.075559</td>\n",
              "      <td>1.815112</td>\n",
              "      <td>6.871902</td>\n",
              "      <td>1.815112</td>\n",
              "      <td>1.815112</td>\n",
              "      <td>1.815112</td>\n",
              "      <td>1.815112</td>\n",
              "      <td>1.815112</td>\n",
              "      <td>10.427023</td>\n",
              "      <td>1.815112</td>\n",
              "      <td>1.815112</td>\n",
              "      <td>1.815112</td>\n",
              "    </tr>\n",
              "    <tr>\n",
              "      <th>2</th>\n",
              "      <td>STT5430_Breast_002_normal</td>\n",
              "      <td>normal</td>\n",
              "      <td>2.077597</td>\n",
              "      <td>3.978294</td>\n",
              "      <td>12.863214</td>\n",
              "      <td>13.728915</td>\n",
              "      <td>14.543176</td>\n",
              "      <td>14.141907</td>\n",
              "      <td>6.232790</td>\n",
              "      <td>57.011005</td>\n",
              "      <td>48.144685</td>\n",
              "      <td>55.579752</td>\n",
              "      <td>41.741942</td>\n",
              "      <td>3.978294</td>\n",
              "      <td>6.232790</td>\n",
              "      <td>24.317644</td>\n",
              "      <td>28.662801</td>\n",
              "      <td>64.494789</td>\n",
              "      <td>14.543176</td>\n",
              "      <td>12.407734</td>\n",
              "      <td>37.531155</td>\n",
              "      <td>32.074035</td>\n",
              "      <td>63.596176</td>\n",
              "      <td>13.303109</td>\n",
              "      <td>42.016789</td>\n",
              "      <td>26.142516</td>\n",
              "      <td>22.853562</td>\n",
              "      <td>76.118706</td>\n",
              "      <td>56.095106</td>\n",
              "      <td>40.053273</td>\n",
              "      <td>13.303109</td>\n",
              "      <td>20.461953</td>\n",
              "      <td>2.077597</td>\n",
              "      <td>58.702060</td>\n",
              "      <td>2.077597</td>\n",
              "      <td>42.153541</td>\n",
              "      <td>30.416278</td>\n",
              "      <td>16.750119</td>\n",
              "      <td>70.137476</td>\n",
              "      <td>35.481715</td>\n",
              "      <td>...</td>\n",
              "      <td>5.228503</td>\n",
              "      <td>20.178729</td>\n",
              "      <td>3.978294</td>\n",
              "      <td>20.741310</td>\n",
              "      <td>22.085154</td>\n",
              "      <td>3.978294</td>\n",
              "      <td>145.308037</td>\n",
              "      <td>27.008755</td>\n",
              "      <td>6.232790</td>\n",
              "      <td>7.096343</td>\n",
              "      <td>16.750119</td>\n",
              "      <td>24.553171</td>\n",
              "      <td>58.702060</td>\n",
              "      <td>46.192467</td>\n",
              "      <td>44.154018</td>\n",
              "      <td>20.178729</td>\n",
              "      <td>13.728915</td>\n",
              "      <td>23.839609</td>\n",
              "      <td>7.865653</td>\n",
              "      <td>37.684188</td>\n",
              "      <td>39.474334</td>\n",
              "      <td>5.228503</td>\n",
              "      <td>38.139602</td>\n",
              "      <td>9.213541</td>\n",
              "      <td>6.232790</td>\n",
              "      <td>2.077597</td>\n",
              "      <td>12.407734</td>\n",
              "      <td>7.096343</td>\n",
              "      <td>10.387983</td>\n",
              "      <td>6.232790</td>\n",
              "      <td>7.096343</td>\n",
              "      <td>2.077597</td>\n",
              "      <td>2.077597</td>\n",
              "      <td>2.077597</td>\n",
              "      <td>2.077597</td>\n",
              "      <td>2.077597</td>\n",
              "      <td>22.344226</td>\n",
              "      <td>2.077597</td>\n",
              "      <td>2.077597</td>\n",
              "      <td>2.077597</td>\n",
              "    </tr>\n",
              "    <tr>\n",
              "      <th>3</th>\n",
              "      <td>STT5439_Breast_003_normal</td>\n",
              "      <td>normal</td>\n",
              "      <td>2.066576</td>\n",
              "      <td>8.520713</td>\n",
              "      <td>14.466035</td>\n",
              "      <td>7.823932</td>\n",
              "      <td>8.520713</td>\n",
              "      <td>2.066576</td>\n",
              "      <td>10.870009</td>\n",
              "      <td>53.292034</td>\n",
              "      <td>27.076621</td>\n",
              "      <td>54.454714</td>\n",
              "      <td>35.933084</td>\n",
              "      <td>2.066576</td>\n",
              "      <td>7.823932</td>\n",
              "      <td>24.422935</td>\n",
              "      <td>15.963105</td>\n",
              "      <td>54.245171</td>\n",
              "      <td>10.870009</td>\n",
              "      <td>14.854454</td>\n",
              "      <td>23.227927</td>\n",
              "      <td>27.905160</td>\n",
              "      <td>49.869762</td>\n",
              "      <td>8.520713</td>\n",
              "      <td>31.903907</td>\n",
              "      <td>16.999606</td>\n",
              "      <td>20.631293</td>\n",
              "      <td>34.477366</td>\n",
              "      <td>39.983492</td>\n",
              "      <td>32.784180</td>\n",
              "      <td>10.870009</td>\n",
              "      <td>24.884876</td>\n",
              "      <td>2.066576</td>\n",
              "      <td>53.398778</td>\n",
              "      <td>9.164670</td>\n",
              "      <td>40.125656</td>\n",
              "      <td>21.968009</td>\n",
              "      <td>14.066895</td>\n",
              "      <td>39.983492</td>\n",
              "      <td>28.907458</td>\n",
              "      <td>...</td>\n",
              "      <td>2.066576</td>\n",
              "      <td>13.656094</td>\n",
              "      <td>7.058702</td>\n",
              "      <td>16.661272</td>\n",
              "      <td>7.823932</td>\n",
              "      <td>2.066576</td>\n",
              "      <td>90.135274</td>\n",
              "      <td>17.976444</td>\n",
              "      <td>2.066576</td>\n",
              "      <td>9.164670</td>\n",
              "      <td>13.656094</td>\n",
              "      <td>15.602310</td>\n",
              "      <td>53.611629</td>\n",
              "      <td>24.654987</td>\n",
              "      <td>35.933084</td>\n",
              "      <td>3.957193</td>\n",
              "      <td>6.199729</td>\n",
              "      <td>11.871578</td>\n",
              "      <td>9.164670</td>\n",
              "      <td>32.434938</td>\n",
              "      <td>25.112660</td>\n",
              "      <td>2.066576</td>\n",
              "      <td>5.200770</td>\n",
              "      <td>14.466035</td>\n",
              "      <td>7.823932</td>\n",
              "      <td>7.823932</td>\n",
              "      <td>17.656837</td>\n",
              "      <td>2.066576</td>\n",
              "      <td>17.331337</td>\n",
              "      <td>5.200770</td>\n",
              "      <td>5.200770</td>\n",
              "      <td>2.066576</td>\n",
              "      <td>2.066576</td>\n",
              "      <td>2.066576</td>\n",
              "      <td>2.066576</td>\n",
              "      <td>2.066576</td>\n",
              "      <td>49.295538</td>\n",
              "      <td>2.066576</td>\n",
              "      <td>2.066576</td>\n",
              "      <td>2.066576</td>\n",
              "    </tr>\n",
              "    <tr>\n",
              "      <th>4</th>\n",
              "      <td>STT5441_Breast_004_normal</td>\n",
              "      <td>normal</td>\n",
              "      <td>2.613616</td>\n",
              "      <td>3.434965</td>\n",
              "      <td>12.682222</td>\n",
              "      <td>10.543189</td>\n",
              "      <td>26.688686</td>\n",
              "      <td>12.484822</td>\n",
              "      <td>1.364917</td>\n",
              "      <td>67.140393</td>\n",
              "      <td>35.896701</td>\n",
              "      <td>48.134682</td>\n",
              "      <td>46.507417</td>\n",
              "      <td>7.179340</td>\n",
              "      <td>8.151497</td>\n",
              "      <td>23.096282</td>\n",
              "      <td>29.007823</td>\n",
              "      <td>78.309425</td>\n",
              "      <td>16.586217</td>\n",
              "      <td>18.698195</td>\n",
              "      <td>42.135928</td>\n",
              "      <td>39.393867</td>\n",
              "      <td>65.111910</td>\n",
              "      <td>15.819691</td>\n",
              "      <td>60.974762</td>\n",
              "      <td>27.872385</td>\n",
              "      <td>38.046667</td>\n",
              "      <td>86.335695</td>\n",
              "      <td>59.781684</td>\n",
              "      <td>56.754932</td>\n",
              "      <td>10.304894</td>\n",
              "      <td>19.857856</td>\n",
              "      <td>2.613616</td>\n",
              "      <td>59.197111</td>\n",
              "      <td>1.364917</td>\n",
              "      <td>59.740119</td>\n",
              "      <td>35.479081</td>\n",
              "      <td>11.872944</td>\n",
              "      <td>66.433731</td>\n",
              "      <td>19.857856</td>\n",
              "      <td>...</td>\n",
              "      <td>1.364917</td>\n",
              "      <td>8.151497</td>\n",
              "      <td>6.053011</td>\n",
              "      <td>32.634544</td>\n",
              "      <td>15.502472</td>\n",
              "      <td>4.662078</td>\n",
              "      <td>122.028428</td>\n",
              "      <td>38.111900</td>\n",
              "      <td>8.739730</td>\n",
              "      <td>1.364917</td>\n",
              "      <td>13.256800</td>\n",
              "      <td>27.513595</td>\n",
              "      <td>74.305471</td>\n",
              "      <td>58.095870</td>\n",
              "      <td>47.615835</td>\n",
              "      <td>23.941223</td>\n",
              "      <td>19.857856</td>\n",
              "      <td>19.982553</td>\n",
              "      <td>13.068081</td>\n",
              "      <td>41.482388</td>\n",
              "      <td>33.088086</td>\n",
              "      <td>5.627695</td>\n",
              "      <td>14.509262</td>\n",
              "      <td>11.227770</td>\n",
              "      <td>5.167491</td>\n",
              "      <td>6.450344</td>\n",
              "      <td>7.840849</td>\n",
              "      <td>1.364917</td>\n",
              "      <td>7.840849</td>\n",
              "      <td>4.662078</td>\n",
              "      <td>11.227770</td>\n",
              "      <td>1.364917</td>\n",
              "      <td>1.364917</td>\n",
              "      <td>1.364917</td>\n",
              "      <td>1.364917</td>\n",
              "      <td>1.364917</td>\n",
              "      <td>23.627911</td>\n",
              "      <td>1.364917</td>\n",
              "      <td>1.364917</td>\n",
              "      <td>1.364917</td>\n",
              "    </tr>\n",
              "  </tbody>\n",
              "</table>\n",
              "<p>5 rows × 15750 columns</p>\n",
              "</div>"
            ],
            "text/plain": [
              "                  Patient_id Diagnosis  LOC643837  ...  CYorf15B     KDM5D    EIF1AY\n",
              "0  STT5425_Breast_001_normal    normal   1.257614  ...  1.257614  1.257614  1.257614\n",
              "1  STT5427_Breast_023_normal    normal   4.567931  ...  1.815112  1.815112  1.815112\n",
              "2  STT5430_Breast_002_normal    normal   2.077597  ...  2.077597  2.077597  2.077597\n",
              "3  STT5439_Breast_003_normal    normal   2.066576  ...  2.066576  2.066576  2.066576\n",
              "4  STT5441_Breast_004_normal    normal   2.613616  ...  1.364917  1.364917  1.364917\n",
              "\n",
              "[5 rows x 15750 columns]"
            ]
          },
          "metadata": {
            "tags": []
          },
          "execution_count": 33
        }
      ]
    },
    {
      "cell_type": "markdown",
      "metadata": {
        "id": "5vUg5Pz6nVO_"
      },
      "source": [
        "##Описание используемых данных\r\n",
        "Данные для этой задачи взяты из исследования, проведенного в Stanford School of Medicine. В исследовании была предпринята попытка выявить набор  генов, которые позволили  бы более точно диагностировать возникновение рака груди на самых ранних стадиях.\r\n",
        "\r\n",
        "В эксперименте принимали участие 24 человек, у которых не было рака груди (normal), 25 человек, у которых это заболевание было диагностировано на ранней стадии (early neoplasia), и 23 человека с сильно выраженными симптомами (cancer)."
      ]
    },
    {
      "cell_type": "markdown",
      "metadata": {
        "id": "oh_X8syfneZ3"
      },
      "source": [
        "Цель исследований — найти гены, средняя экспрессия которых отличается не только статистически значимо, но и достаточно сильно. В экспрессионных исследованиях для этого часто используется метрика, которая называется fold change (кратность изменения)."
      ]
    },
    {
      "cell_type": "markdown",
      "metadata": {
        "id": "OIoYFGxbnx9e"
      },
      "source": [
        "## 1 Задание\r\n",
        "Применить критерий Стьюдента для проверки гипотезы о равенстве средних в двух независимых выборках для каждого гена нужно будет дважды:\r\n",
        "\r\n",
        "для групп normal (control) и early neoplasia (treatment)\r\n",
        "для групп early neoplasia (control) и cancer (treatment)"
      ]
    },
    {
      "cell_type": "code",
      "metadata": {
        "id": "SyslY5uuwSYL"
      },
      "source": [
        "s = []\r\n",
        "folds1 = []\r\n",
        "p = []\r\n",
        "folds2 = []\r\n",
        "def fold_change(t, c):\r\n",
        "  if t >= c:\r\n",
        "    return t/c\r\n",
        "  else:\r\n",
        "    return -c/t\r\n",
        "for i in list(data.columns[2:]):\r\n",
        "  normal = data[data.Diagnosis == 'normal'][i]\r\n",
        "  cancer = data[data.Diagnosis == 'cancer'][i]\r\n",
        "  early = data[data.Diagnosis == 'early neoplasia'][i]\r\n",
        "  control_1_mean, treatment_1_mean = np.mean(data[data.Diagnosis == 'normal'][i]), np.mean(data[data.Diagnosis == 'early neoplasia'][i])\r\n",
        "  control_2_mean, treatment_2_mean = np.mean(data[data.Diagnosis == 'early neoplasia'][i]), np.mean(data[data.Diagnosis == 'cancer'][i])\r\n",
        "  s.append(stats.ttest_ind(normal, early,  equal_var=False)[1])\r\n",
        "  folds1.append(abs(fold_change(treatment_1_mean, control_1_mean)))\r\n",
        "  p.append(stats.ttest_ind(cancer, early,  equal_var=False)[1])\r\n",
        "  folds2.append(abs(fold_change(treatment_2_mean, control_2_mean)))\r\n"
      ],
      "execution_count": 46,
      "outputs": []
    },
    {
      "cell_type": "code",
      "metadata": {
        "colab": {
          "base_uri": "https://localhost:8080/"
        },
        "id": "0JKVUOI_fqe9",
        "outputId": "0b7fcb86-e32d-4edd-fd0b-d672c36ac288"
      },
      "source": [
        "susy = 0\r\n",
        "pus = 0\r\n",
        "for i in range(len(s)):\r\n",
        "  if s[i] < 0.05:\r\n",
        "    susy+=1\r\n",
        "for j in range(len(p)):\r\n",
        "  if p[j] < 0.05:\r\n",
        "    pus+=1\r\n",
        "print(susy)\r\n",
        "print(pus)\r\n",
        "print(susy+pus)"
      ],
      "execution_count": 49,
      "outputs": [
        {
          "output_type": "stream",
          "text": [
            "1575\n",
            "3490\n",
            "5065\n"
          ],
          "name": "stdout"
        }
      ]
    },
    {
      "cell_type": "markdown",
      "metadata": {
        "id": "dxrVCGOUoAUj"
      },
      "source": [
        "Вот такое большое получилось количество статистически значимых отличий. Оно и понятно - это специфика множественной проверки гипотез. Проведем попровку."
      ]
    },
    {
      "cell_type": "markdown",
      "metadata": {
        "id": "bOaQwrUDoORA"
      },
      "source": [
        "## 2 Задание\r\n",
        "применим поправку Холма для получившихся двух наборов достигаемых уровней значимости из предыдущей части"
      ]
    },
    {
      "cell_type": "markdown",
      "metadata": {
        "id": "qNecasR-pN24"
      },
      "source": [
        "Выведем количество значимых отличий в каждой группе после того, как произведена коррекция Холма-Бонферрони. Причем это число нужно вывести с учетом практической значимости: посчитаем для каждого значимого изменения fold change и выпишем в ответ число таких значимых изменений, абсолютное значение fold change которых больше, чем 1.51.5."
      ]
    },
    {
      "cell_type": "code",
      "metadata": {
        "colab": {
          "base_uri": "https://localhost:8080/"
        },
        "id": "mPWuTx4L409S",
        "outputId": "2f8396f5-7ba2-4d74-9193-53952dffac58"
      },
      "source": [
        "reject, p_corrected, a1, a2 = multipletests(s, \r\n",
        "                                            alpha = 0.05/2, \r\n",
        "                                            method = 'holm')\r\n",
        "num1 = 0\r\n",
        "for i in range(len(p_corrected)):\r\n",
        "  if p_corrected[i] < 0.05:\r\n",
        "    if folds1[i] > 1.5:\r\n",
        "      num1 += 1\r\n",
        "num1"
      ],
      "execution_count": 56,
      "outputs": [
        {
          "output_type": "execute_result",
          "data": {
            "text/plain": [
              "4"
            ]
          },
          "metadata": {
            "tags": []
          },
          "execution_count": 56
        }
      ]
    },
    {
      "cell_type": "code",
      "metadata": {
        "colab": {
          "base_uri": "https://localhost:8080/"
        },
        "id": "AwlUkTnn8dF-",
        "outputId": "8a7042ac-7ba3-4d8e-c208-7b19676aea15"
      },
      "source": [
        "reject, p_corrected, a1, a2 = multipletests(p, \r\n",
        "                                            alpha = 0.05/2, \r\n",
        "                                            method = 'holm')\r\n",
        "num2 = 0\r\n",
        "for i in range(len(p_corrected)):\r\n",
        "  if p_corrected[i] < 0.05:\r\n",
        "    if folds2[i] > 1.5:\r\n",
        "      num2 += 1\r\n",
        "num2"
      ],
      "execution_count": 57,
      "outputs": [
        {
          "output_type": "execute_result",
          "data": {
            "text/plain": [
              "91"
            ]
          },
          "metadata": {
            "tags": []
          },
          "execution_count": 57
        }
      ]
    },
    {
      "cell_type": "markdown",
      "metadata": {
        "id": "ig_yhARtpGvv"
      },
      "source": [
        "при использовании поправки на уровне значимости 0.025 меняются значения достигаемого уровня значимости, но не меняется значение уровня доверия (то есть для отбора значимых изменений скорректированные значения уровня значимости нужно сравнивать с порогом 0.025, а не 0.05)!"
      ]
    },
    {
      "cell_type": "markdown",
      "metadata": {
        "id": "DbpP3U4kpdfJ"
      },
      "source": [
        "## 3 Задание\r\n",
        "То же самое, но поправка Бенджамини-Хохберга"
      ]
    },
    {
      "cell_type": "code",
      "metadata": {
        "colab": {
          "base_uri": "https://localhost:8080/"
        },
        "id": "xwOQyl9v75Il",
        "outputId": "5ecd8e66-3c43-4666-f863-0be55787efb5"
      },
      "source": [
        "reject, p_corrected, a1, a2 = multipletests(s, \r\n",
        "                                            alpha = 0.05/2, \r\n",
        "                                            method = 'fdr_bh')\r\n",
        "num1 = 0\r\n",
        "for i in range(len(p_corrected)):\r\n",
        "  if p_corrected[i] < 0.05:\r\n",
        "    if folds1[i] > 1.5:\r\n",
        "      num1 += 1\r\n",
        "num1"
      ],
      "execution_count": 58,
      "outputs": [
        {
          "output_type": "execute_result",
          "data": {
            "text/plain": [
              "23"
            ]
          },
          "metadata": {
            "tags": []
          },
          "execution_count": 58
        }
      ]
    },
    {
      "cell_type": "code",
      "metadata": {
        "colab": {
          "base_uri": "https://localhost:8080/"
        },
        "id": "S9670rMT3Ylj",
        "outputId": "dc83dd01-ac46-4b26-a52a-01dfd4626f21"
      },
      "source": [
        "reject, p_corrected, a1, a2 = multipletests(p, \r\n",
        "                                            alpha = 0.05/2, \r\n",
        "                                            method = 'fdr_bh')\r\n",
        "num2 = 0\r\n",
        "for i in range(len(p_corrected)):\r\n",
        "  if p_corrected[i] < 0.05:\r\n",
        "    if folds2[i] > 1.5:\r\n",
        "      num2 += 1\r\n",
        "num2"
      ],
      "execution_count": 61,
      "outputs": [
        {
          "output_type": "execute_result",
          "data": {
            "text/plain": [
              "670"
            ]
          },
          "metadata": {
            "tags": []
          },
          "execution_count": 61
        }
      ]
    },
    {
      "cell_type": "markdown",
      "metadata": {
        "id": "k5wE4QiBp1Ox"
      },
      "source": [
        " Обратите внимание, что методы коррекции, которые контролируют FDR(Бенджамини-Хохберга), допускает больше ошибок первого рода и имеют большую мощность, чем методы, контролирующие FWER(Холма). Большая мощность означает, что эти методы будут совершать меньше ошибок второго рода (то есть будут лучше улавливать отклонения от H_0, когда они есть, и будут чаще отклонять H_0, когда отличий нет)."
      ]
    }
  ]
}